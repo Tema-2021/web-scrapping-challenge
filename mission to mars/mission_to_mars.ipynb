{
 "cells": [
  {
   "cell_type": "code",
   "execution_count": 28,
   "source": [
    "# Import dependencies\r\n",
    "from bs4 import BeautifulSoup as bs\r\n",
    "from splinter import Browser\r\n",
    "#from pprint import pprint\r\n",
    "#import pymongo\r\n",
    "import pandas as pd\r\n",
    "import time\r\n",
    "from webdriver_manager.chrome import ChromeDriverManager"
   ],
   "outputs": [],
   "metadata": {}
  },
  {
   "cell_type": "code",
   "execution_count": 29,
   "source": [
    "executable_path = {'executable_path': ChromeDriverManager().install()}\r\n",
    "browser = Browser('chrome', **executable_path, headless=False)"
   ],
   "outputs": [
    {
     "output_type": "stream",
     "name": "stderr",
     "text": [
      "\n",
      "\n",
      "====== WebDriver manager ======\n",
      "Current google-chrome version is 92.0.4515\n",
      "Get LATEST driver version for 92.0.4515\n",
      "Driver [C:\\Users\\vaab2\\.wdm\\drivers\\chromedriver\\win32\\92.0.4515.107\\chromedriver.exe] found in cache\n"
     ]
    }
   ],
   "metadata": {}
  },
  {
   "cell_type": "markdown",
   "source": [
    "MARS NEWS"
   ],
   "metadata": {}
  },
  {
   "cell_type": "code",
   "execution_count": 30,
   "source": [
    "\r\n",
    "#Visit Mars News url  using splinter module\r\n",
    "\r\n",
    "red_planet_url = 'https://redplanetscience.com/'\r\n",
    "browser.visit(red_planet_url)\r\n",
    "#create HTMl Object\r\n",
    "html = browser.html"
   ],
   "outputs": [],
   "metadata": {}
  },
  {
   "cell_type": "code",
   "execution_count": 31,
   "source": [
    "#parse HTML with beautiful soup\r\n",
    "soup = bs(html, 'html.parser')"
   ],
   "outputs": [],
   "metadata": {}
  },
  {
   "cell_type": "code",
   "execution_count": 32,
   "source": [
    "red_planet_data = soup.find('div', id = 'news', class_ = 'container')\r\n",
    "print(red_planet_data)"
   ],
   "outputs": [
    {
     "output_type": "stream",
     "name": "stdout",
     "text": [
      "<div class=\"container\" id=\"news\">\n",
      "<div class=\"col-md-12\">\n",
      "<hr/>\n",
      "<div class=\"row\">\n",
      "<div class=\"col-md-4\">\n",
      "<div class=\"list_image\">\n",
      "<img src=\"https://mars.nasa.gov/system/news_items/list_view_images/8585_name20190625-320x240.jpg\"/>\n",
      "</div>\n",
      "</div>\n",
      "<div class=\"col-md-8\">\n",
      "<div class=\"list_text\">\n",
      "<div class=\"list_date\">August 16, 2021</div>\n",
      "<div class=\"content_title\">NASA's Mars 2020 Rover Closer to Getting Its Name</div>\n",
      "<div class=\"article_teaser_body\">155 students from across the U.S. have been chosen as semifinalists in NASA's essay contest to name the Mars 2020 rover, and see it launch from Cape Canaveral this July.</div>\n",
      "</div>\n",
      "</div>\n",
      "</div>\n",
      "</div>\n",
      "<div class=\"col-md-12\">\n",
      "<hr/>\n",
      "<div class=\"row\">\n",
      "<div class=\"col-md-4\">\n",
      "<div class=\"list_image\">\n",
      "<img src=\"https://mars.nasa.gov/system/news_items/list_view_images/8657_1-PIA23884-320x240.jpg\"/>\n",
      "</div>\n",
      "</div>\n",
      "<div class=\"col-md-8\">\n",
      "<div class=\"list_text\">\n",
      "<div class=\"list_date\">August 15, 2021</div>\n",
      "<div class=\"content_title\">NASA's Perseverance Rover Mission Getting in Shape for Launch</div>\n",
      "<div class=\"article_teaser_body\">Stacking spacecraft components on top of each other is one of the final assembly steps before a mission launches to the Red Planet. </div>\n",
      "</div>\n",
      "</div>\n",
      "</div>\n",
      "</div>\n",
      "<div class=\"col-md-12\">\n",
      "<hr/>\n",
      "<div class=\"row\">\n",
      "<div class=\"col-md-4\">\n",
      "<div class=\"list_image\">\n",
      "<img src=\"https://mars.nasa.gov/system/news_items/list_view_images/8718_25106_PIA23986-320.jpg\"/>\n",
      "</div>\n",
      "</div>\n",
      "<div class=\"col-md-8\">\n",
      "<div class=\"list_text\">\n",
      "<div class=\"list_date\">August 11, 2021</div>\n",
      "<div class=\"content_title\">NASA's Mars Perseverance Rover Passes Flight Readiness Review</div>\n",
      "<div class=\"article_teaser_body\">​The agency's Mars 2020 mission has one more big prelaunch review – the Launch Readiness Review, on July 27.</div>\n",
      "</div>\n",
      "</div>\n",
      "</div>\n",
      "</div>\n",
      "<div class=\"col-md-12\">\n",
      "<hr/>\n",
      "<div class=\"row\">\n",
      "<div class=\"col-md-4\">\n",
      "<div class=\"list_image\">\n",
      "<img src=\"https://mars.nasa.gov/system/news_items/list_view_images/8662_video-collage-perseverance-320x240.jpg\"/>\n",
      "</div>\n",
      "</div>\n",
      "<div class=\"col-md-8\">\n",
      "<div class=\"list_text\">\n",
      "<div class=\"list_date\">August 9, 2021</div>\n",
      "<div class=\"content_title\">Meet the People Behind NASA's Perseverance Rover</div>\n",
      "<div class=\"article_teaser_body\">These are the scientists and engineers who built NASA's next Mars rover and who will guide it to a safe landing in Jezero Crater. </div>\n",
      "</div>\n",
      "</div>\n",
      "</div>\n",
      "</div>\n",
      "<div class=\"col-md-12\">\n",
      "<hr/>\n",
      "<div class=\"row\">\n",
      "<div class=\"col-md-4\">\n",
      "<div class=\"list_image\">\n",
      "<img src=\"https://mars.nasa.gov/system/news_items/list_view_images/8765_PIA24040-320.jpg\"/>\n",
      "</div>\n",
      "</div>\n",
      "<div class=\"col-md-8\">\n",
      "<div class=\"list_text\">\n",
      "<div class=\"list_date\">August 8, 2021</div>\n",
      "<div class=\"content_title\">AI Is Helping Scientists Discover Fresh Craters on Mars</div>\n",
      "<div class=\"article_teaser_body\">It's the first time machine learning has been used to find previously unknown craters on the Red Planet.</div>\n",
      "</div>\n",
      "</div>\n",
      "</div>\n",
      "</div>\n",
      "<div class=\"col-md-12\">\n",
      "<hr/>\n",
      "<div class=\"row\">\n",
      "<div class=\"col-md-4\">\n",
      "<div class=\"list_image\">\n",
      "<img src=\"https://mars.nasa.gov/system/news_items/list_view_images/8744_PIA22957-226.jpg\"/>\n",
      "</div>\n",
      "</div>\n",
      "<div class=\"col-md-8\">\n",
      "<div class=\"list_text\">\n",
      "<div class=\"list_date\">August 6, 2021</div>\n",
      "<div class=\"content_title\">NASA Engineers Checking InSight's Weather Sensors</div>\n",
      "<div class=\"article_teaser_body\">An electronics issue is suspected to be preventing the sensors from sharing their data about Mars weather with the spacecraft.</div>\n",
      "</div>\n",
      "</div>\n",
      "</div>\n",
      "</div>\n",
      "<div class=\"col-md-12\">\n",
      "<hr/>\n",
      "<div class=\"row\">\n",
      "<div class=\"col-md-4\">\n",
      "<div class=\"list_image\">\n",
      "<img src=\"https://mars.nasa.gov/system/news_items/list_view_images/8716_PIA23499-320x240.jpg\"/>\n",
      "</div>\n",
      "</div>\n",
      "<div class=\"col-md-8\">\n",
      "<div class=\"list_text\">\n",
      "<div class=\"list_date\">August 6, 2021</div>\n",
      "<div class=\"content_title\">NASA to Broadcast Mars 2020 Perseverance Launch, Prelaunch Activities</div>\n",
      "<div class=\"article_teaser_body\">Starting July 27, news activities will cover everything from mission engineering and science to returning samples from Mars to, of course, the launch itself.</div>\n",
      "</div>\n",
      "</div>\n",
      "</div>\n",
      "</div>\n",
      "<div class=\"col-md-12\">\n",
      "<hr/>\n",
      "<div class=\"row\">\n",
      "<div class=\"col-md-4\">\n",
      "<div class=\"list_image\">\n",
      "<img src=\"https://mars.nasa.gov/system/news_items/list_view_images/8603_list_image.jpg\"/>\n",
      "</div>\n",
      "</div>\n",
      "<div class=\"col-md-8\">\n",
      "<div class=\"list_text\">\n",
      "<div class=\"list_date\">August 5, 2021</div>\n",
      "<div class=\"content_title\">NASA Administrator Statement on Moon to Mars Initiative, FY 2021 Budget</div>\n",
      "<div class=\"article_teaser_body\">Jim Bridenstine addresses NASA's ambitious plans for the coming years, including Mars Sample Return.</div>\n",
      "</div>\n",
      "</div>\n",
      "</div>\n",
      "</div>\n",
      "<div class=\"col-md-12\">\n",
      "<hr/>\n",
      "<div class=\"row\">\n",
      "<div class=\"col-md-4\">\n",
      "<div class=\"list_image\">\n",
      "<img src=\"https://mars.nasa.gov/system/news_items/list_view_images/8537_PIA23468-16_320x240px.jpg\"/>\n",
      "</div>\n",
      "</div>\n",
      "<div class=\"col-md-8\">\n",
      "<div class=\"list_text\">\n",
      "<div class=\"list_date\">August 5, 2021</div>\n",
      "<div class=\"content_title\">Mars 2020 Stands on Its Own Six Wheels</div>\n",
      "<div class=\"article_teaser_body\">In time-lapse video, taken at JPL, captures the first time NASA's Mars 2020 rover carries its full weight on its legs and wheels.</div>\n",
      "</div>\n",
      "</div>\n",
      "</div>\n",
      "</div>\n",
      "<div class=\"col-md-12\">\n",
      "<hr/>\n",
      "<div class=\"row\">\n",
      "<div class=\"col-md-4\">\n",
      "<div class=\"list_image\">\n",
      "<img src=\"https://mars.nasa.gov/system/news_items/list_view_images/8785_PIA24231-320.jpg\"/>\n",
      "</div>\n",
      "</div>\n",
      "<div class=\"col-md-8\">\n",
      "<div class=\"list_text\">\n",
      "<div class=\"list_date\">July 30, 2021</div>\n",
      "<div class=\"content_title\">NASA's Perseverance Rover Is Midway to Mars </div>\n",
      "<div class=\"article_teaser_body\">Sometimes half measures can be a good thing – especially on a journey this long. The agency's latest rover only has about 146 million miles left to reach its destination.</div>\n",
      "</div>\n",
      "</div>\n",
      "</div>\n",
      "</div>\n",
      "<div class=\"col-md-12\">\n",
      "<hr/>\n",
      "<div class=\"row\">\n",
      "<div class=\"col-md-4\">\n",
      "<div class=\"list_image\">\n",
      "<img src=\"https://mars.nasa.gov/system/news_items/list_view_images/8505_PIA23275-th.jpg\"/>\n",
      "</div>\n",
      "</div>\n",
      "<div class=\"col-md-8\">\n",
      "<div class=\"list_text\">\n",
      "<div class=\"list_date\">July 28, 2021</div>\n",
      "<div class=\"content_title\">Scientists Explore Outback as Testbed for Mars </div>\n",
      "<div class=\"article_teaser_body\">Australia provides a great place for NASA's Mars 2020 and the ESA-Roscosmos ExoMars scientists to hone techniques in preparation for searching for signs ancient life on Mars.</div>\n",
      "</div>\n",
      "</div>\n",
      "</div>\n",
      "</div>\n",
      "<div class=\"col-md-12\">\n",
      "<hr/>\n",
      "<div class=\"row\">\n",
      "<div class=\"col-md-4\">\n",
      "<div class=\"list_image\">\n",
      "<img src=\"https://mars.nasa.gov/system/news_items/list_view_images/8595_mars_winds_preview_4-320x240.jpg\"/>\n",
      "</div>\n",
      "</div>\n",
      "<div class=\"col-md-8\">\n",
      "<div class=\"list_text\">\n",
      "<div class=\"list_date\">July 27, 2021</div>\n",
      "<div class=\"content_title\">NASA's MAVEN Maps Winds in the Martian Upper Atmosphere that Mirror the Terrain Below and Gives Clues to Martian Climate</div>\n",
      "<div class=\"article_teaser_body\">Researchers have created the first map of wind circulation in the upper atmosphere of a planet besides Earth, using data from NASA’s MAVEN spacecraft that were collected during the last two years.</div>\n",
      "</div>\n",
      "</div>\n",
      "</div>\n",
      "</div>\n",
      "<div class=\"col-md-12\">\n",
      "<hr/>\n",
      "<div class=\"row\">\n",
      "<div class=\"col-md-4\">\n",
      "<div class=\"list_image\">\n",
      "<img src=\"https://mars.nasa.gov/system/news_items/list_view_images/8719_launch-at-home-320.jpg\"/>\n",
      "</div>\n",
      "</div>\n",
      "<div class=\"col-md-8\">\n",
      "<div class=\"list_text\">\n",
      "<div class=\"list_date\">July 22, 2021</div>\n",
      "<div class=\"content_title\">NASA Invites Public to Share Excitement of Mars 2020 Perseverance Rover Launch</div>\n",
      "<div class=\"article_teaser_body\">There are lots of ways to participate in the historic event, which is targeted for July 30.</div>\n",
      "</div>\n",
      "</div>\n",
      "</div>\n",
      "</div>\n",
      "<div class=\"col-md-12\">\n",
      "<hr/>\n",
      "<div class=\"row\">\n",
      "<div class=\"col-md-4\">\n",
      "<div class=\"list_image\">\n",
      "<img src=\"https://mars.nasa.gov/system/news_items/list_view_images/8508_Name_A_unannotated_MAIN-th.jpg\"/>\n",
      "</div>\n",
      "</div>\n",
      "<div class=\"col-md-8\">\n",
      "<div class=\"list_text\">\n",
      "<div class=\"list_date\">July 19, 2021</div>\n",
      "<div class=\"content_title\">NASA Invites Students to Name Mars 2020 Rover</div>\n",
      "<div class=\"article_teaser_body\">Through Nov. 1, K-12 students in the U.S. are encouraged to enter an essay contest to name NASA's next Mars rover.</div>\n",
      "</div>\n",
      "</div>\n",
      "</div>\n",
      "</div>\n",
      "<div class=\"col-md-12\">\n",
      "<hr/>\n",
      "<div class=\"row\">\n",
      "<div class=\"col-md-4\">\n",
      "<div class=\"list_image\">\n",
      "<img src=\"https://mars.nasa.gov/system/news_items/list_view_images/8737_24760_PIA23492-320x240.jpg\"/>\n",
      "</div>\n",
      "</div>\n",
      "<div class=\"col-md-8\">\n",
      "<div class=\"list_text\">\n",
      "<div class=\"list_date\">July 18, 2021</div>\n",
      "<div class=\"content_title\">NASA Establishes Board to Initially Review Mars Sample Return Plans</div>\n",
      "<div class=\"article_teaser_body\">The board will assist with analysis of current plans and goals for one of the most difficult missions humanity has ever undertaken.</div>\n",
      "</div>\n",
      "</div>\n",
      "</div>\n",
      "</div>\n",
      "</div>\n"
     ]
    }
   ],
   "metadata": {}
  },
  {
   "cell_type": "code",
   "execution_count": 33,
   "source": [
    "# Extract title \r\n",
    "#title = soup.find('div',class_='content_title').get_text()\r\n",
    "title = soup.find('div',class_='content_title').text\r\n",
    "print(title)"
   ],
   "outputs": [
    {
     "output_type": "stream",
     "name": "stdout",
     "text": [
      "NASA's Mars 2020 Rover Closer to Getting Its Name\n"
     ]
    }
   ],
   "metadata": {}
  },
  {
   "cell_type": "code",
   "execution_count": 34,
   "source": [
    "# Extract paragraph\r\n",
    "#paragraph = red_planet_data.find('div', class_= 'article_teaser_body').get_text()\r\n",
    "paragraph = red_planet_data.find('div', class_= 'article_teaser_body').text\r\n",
    "print(paragraph)"
   ],
   "outputs": [
    {
     "output_type": "stream",
     "name": "stdout",
     "text": [
      "155 students from across the U.S. have been chosen as semifinalists in NASA's essay contest to name the Mars 2020 rover, and see it launch from Cape Canaveral this July.\n"
     ]
    }
   ],
   "metadata": {}
  },
  {
   "cell_type": "code",
   "execution_count": 35,
   "source": [
    "#print title and paragraph\r\n",
    "print(title)\r\n",
    "print('-----------------------------------')\r\n",
    "print(paragraph)"
   ],
   "outputs": [
    {
     "output_type": "stream",
     "name": "stdout",
     "text": [
      "NASA's Mars 2020 Rover Closer to Getting Its Name\n",
      "-----------------------------------\n",
      "155 students from across the U.S. have been chosen as semifinalists in NASA's essay contest to name the Mars 2020 rover, and see it launch from Cape Canaveral this July.\n"
     ]
    }
   ],
   "metadata": {}
  },
  {
   "cell_type": "code",
   "execution_count": 36,
   "source": [
    "# Exist browser\r\n",
    "browser.quit()"
   ],
   "outputs": [],
   "metadata": {}
  },
  {
   "cell_type": "markdown",
   "source": [
    "MARS IMAGES"
   ],
   "metadata": {}
  },
  {
   "cell_type": "code",
   "execution_count": 37,
   "source": [
    "# Using splinters \r\n",
    "executable_path = {'executable_path': ChromeDriverManager().install()}\r\n",
    "browser = Browser('chrome', **executable_path, headless=False)"
   ],
   "outputs": [
    {
     "output_type": "stream",
     "name": "stderr",
     "text": [
      "\n",
      "\n",
      "====== WebDriver manager ======\n",
      "Current google-chrome version is 92.0.4515\n",
      "Get LATEST driver version for 92.0.4515\n",
      "Driver [C:\\Users\\vaab2\\.wdm\\drivers\\chromedriver\\win32\\92.0.4515.107\\chromedriver.exe] found in cache\n"
     ]
    }
   ],
   "metadata": {}
  },
  {
   "cell_type": "code",
   "execution_count": 38,
   "source": [
    "# visit Mars image url\r\n",
    "image_url = 'https://spaceimages-mars.com/'\r\n",
    "browser.visit(image_url)\r\n",
    "#create HTMl Object\r\n",
    "image_html = browser.html"
   ],
   "outputs": [],
   "metadata": {}
  },
  {
   "cell_type": "code",
   "execution_count": 39,
   "source": [
    "#parse HTML with beautiful soup\r\n",
    "image_soup = bs(image_html, 'html.parser')"
   ],
   "outputs": [],
   "metadata": {}
  },
  {
   "cell_type": "code",
   "execution_count": 40,
   "source": [
    "# Print image\r\n",
    "featured_img_url = image_url + image_soup.find('div', class_='header').find('img', class_='headerimage').get('src')\r\n",
    "print(featured_img_url)"
   ],
   "outputs": [
    {
     "output_type": "stream",
     "name": "stdout",
     "text": [
      "https://spaceimages-mars.com/image/featured/mars2.jpg\n"
     ]
    }
   ],
   "metadata": {}
  },
  {
   "cell_type": "code",
   "execution_count": 41,
   "source": [
    "# Exist browser\r\n",
    "browser.quit()"
   ],
   "outputs": [],
   "metadata": {}
  },
  {
   "cell_type": "markdown",
   "source": [
    "MARS FACTS"
   ],
   "metadata": {}
  },
  {
   "cell_type": "code",
   "execution_count": 42,
   "source": [
    "# Using splinters \r\n",
    "executable_path = {'executable_path': ChromeDriverManager().install()}\r\n",
    "browser = Browser('chrome', **executable_path, headless=False)"
   ],
   "outputs": [
    {
     "output_type": "stream",
     "name": "stderr",
     "text": [
      "\n",
      "\n",
      "====== WebDriver manager ======\n",
      "Current google-chrome version is 92.0.4515\n",
      "Get LATEST driver version for 92.0.4515\n",
      "Driver [C:\\Users\\vaab2\\.wdm\\drivers\\chromedriver\\win32\\92.0.4515.107\\chromedriver.exe] found in cache\n"
     ]
    }
   ],
   "metadata": {}
  },
  {
   "cell_type": "code",
   "execution_count": 43,
   "source": [
    "# visit Mars facts url\r\n",
    "facts_url = 'https://galaxyfacts-mars.com/'\r\n",
    "browser.visit(facts_url)\r\n",
    "#create HTMl Object\r\n",
    "facts_html = browser.html\r\n",
    "facts_table = pd.read_html(facts_url)"
   ],
   "outputs": [],
   "metadata": {}
  },
  {
   "cell_type": "code",
   "execution_count": 44,
   "source": [
    "#parse HTML with beautiful soup\r\n",
    "facts_soup = bs(facts_html, 'html.parser')"
   ],
   "outputs": [],
   "metadata": {}
  },
  {
   "cell_type": "code",
   "execution_count": 45,
   "source": [
    "# Create Dataframe to store facts_table\r\n",
    "facts_table_df = facts_table[0]"
   ],
   "outputs": [],
   "metadata": {}
  },
  {
   "cell_type": "code",
   "execution_count": 46,
   "source": [
    "# Print dataframe\r\n",
    "facts_table_df"
   ],
   "outputs": [
    {
     "output_type": "execute_result",
     "data": {
      "text/plain": [
       "                         0                1                2\n",
       "0  Mars - Earth Comparison             Mars            Earth\n",
       "1                Diameter:         6,779 km        12,742 km\n",
       "2                    Mass:  6.39 × 10^23 kg  5.97 × 10^24 kg\n",
       "3                   Moons:                2                1\n",
       "4       Distance from Sun:   227,943,824 km   149,598,262 km\n",
       "5          Length of Year:   687 Earth days      365.24 days\n",
       "6             Temperature:     -87 to -5 °C      -88 to 58°C"
      ],
      "text/html": [
       "<div>\n",
       "<style scoped>\n",
       "    .dataframe tbody tr th:only-of-type {\n",
       "        vertical-align: middle;\n",
       "    }\n",
       "\n",
       "    .dataframe tbody tr th {\n",
       "        vertical-align: top;\n",
       "    }\n",
       "\n",
       "    .dataframe thead th {\n",
       "        text-align: right;\n",
       "    }\n",
       "</style>\n",
       "<table border=\"1\" class=\"dataframe\">\n",
       "  <thead>\n",
       "    <tr style=\"text-align: right;\">\n",
       "      <th></th>\n",
       "      <th>0</th>\n",
       "      <th>1</th>\n",
       "      <th>2</th>\n",
       "    </tr>\n",
       "  </thead>\n",
       "  <tbody>\n",
       "    <tr>\n",
       "      <th>0</th>\n",
       "      <td>Mars - Earth Comparison</td>\n",
       "      <td>Mars</td>\n",
       "      <td>Earth</td>\n",
       "    </tr>\n",
       "    <tr>\n",
       "      <th>1</th>\n",
       "      <td>Diameter:</td>\n",
       "      <td>6,779 km</td>\n",
       "      <td>12,742 km</td>\n",
       "    </tr>\n",
       "    <tr>\n",
       "      <th>2</th>\n",
       "      <td>Mass:</td>\n",
       "      <td>6.39 × 10^23 kg</td>\n",
       "      <td>5.97 × 10^24 kg</td>\n",
       "    </tr>\n",
       "    <tr>\n",
       "      <th>3</th>\n",
       "      <td>Moons:</td>\n",
       "      <td>2</td>\n",
       "      <td>1</td>\n",
       "    </tr>\n",
       "    <tr>\n",
       "      <th>4</th>\n",
       "      <td>Distance from Sun:</td>\n",
       "      <td>227,943,824 km</td>\n",
       "      <td>149,598,262 km</td>\n",
       "    </tr>\n",
       "    <tr>\n",
       "      <th>5</th>\n",
       "      <td>Length of Year:</td>\n",
       "      <td>687 Earth days</td>\n",
       "      <td>365.24 days</td>\n",
       "    </tr>\n",
       "    <tr>\n",
       "      <th>6</th>\n",
       "      <td>Temperature:</td>\n",
       "      <td>-87 to -5 °C</td>\n",
       "      <td>-88 to 58°C</td>\n",
       "    </tr>\n",
       "  </tbody>\n",
       "</table>\n",
       "</div>"
      ]
     },
     "metadata": {},
     "execution_count": 46
    }
   ],
   "metadata": {}
  },
  {
   "cell_type": "code",
   "execution_count": 47,
   "source": [
    "# Drop the Earth column\r\n",
    "facts_table_df = facts_table_df.drop(columns = [2])\r\n",
    "facts_table_df"
   ],
   "outputs": [
    {
     "output_type": "execute_result",
     "data": {
      "text/plain": [
       "                         0                1\n",
       "0  Mars - Earth Comparison             Mars\n",
       "1                Diameter:         6,779 km\n",
       "2                    Mass:  6.39 × 10^23 kg\n",
       "3                   Moons:                2\n",
       "4       Distance from Sun:   227,943,824 km\n",
       "5          Length of Year:   687 Earth days\n",
       "6             Temperature:     -87 to -5 °C"
      ],
      "text/html": [
       "<div>\n",
       "<style scoped>\n",
       "    .dataframe tbody tr th:only-of-type {\n",
       "        vertical-align: middle;\n",
       "    }\n",
       "\n",
       "    .dataframe tbody tr th {\n",
       "        vertical-align: top;\n",
       "    }\n",
       "\n",
       "    .dataframe thead th {\n",
       "        text-align: right;\n",
       "    }\n",
       "</style>\n",
       "<table border=\"1\" class=\"dataframe\">\n",
       "  <thead>\n",
       "    <tr style=\"text-align: right;\">\n",
       "      <th></th>\n",
       "      <th>0</th>\n",
       "      <th>1</th>\n",
       "    </tr>\n",
       "  </thead>\n",
       "  <tbody>\n",
       "    <tr>\n",
       "      <th>0</th>\n",
       "      <td>Mars - Earth Comparison</td>\n",
       "      <td>Mars</td>\n",
       "    </tr>\n",
       "    <tr>\n",
       "      <th>1</th>\n",
       "      <td>Diameter:</td>\n",
       "      <td>6,779 km</td>\n",
       "    </tr>\n",
       "    <tr>\n",
       "      <th>2</th>\n",
       "      <td>Mass:</td>\n",
       "      <td>6.39 × 10^23 kg</td>\n",
       "    </tr>\n",
       "    <tr>\n",
       "      <th>3</th>\n",
       "      <td>Moons:</td>\n",
       "      <td>2</td>\n",
       "    </tr>\n",
       "    <tr>\n",
       "      <th>4</th>\n",
       "      <td>Distance from Sun:</td>\n",
       "      <td>227,943,824 km</td>\n",
       "    </tr>\n",
       "    <tr>\n",
       "      <th>5</th>\n",
       "      <td>Length of Year:</td>\n",
       "      <td>687 Earth days</td>\n",
       "    </tr>\n",
       "    <tr>\n",
       "      <th>6</th>\n",
       "      <td>Temperature:</td>\n",
       "      <td>-87 to -5 °C</td>\n",
       "    </tr>\n",
       "  </tbody>\n",
       "</table>\n",
       "</div>"
      ]
     },
     "metadata": {},
     "execution_count": 47
    }
   ],
   "metadata": {}
  },
  {
   "cell_type": "code",
   "execution_count": 48,
   "source": [
    "# Rename columns\r\n",
    "columns = ['Mars-Earth Comparison', 'Mars-Facts']\r\n",
    "facts_table_df = facts_table_df.rename(columns={0:'Mars-Earth Comparison', 1:'Mars-Facts'})\r\n",
    "facts_table_df"
   ],
   "outputs": [
    {
     "output_type": "execute_result",
     "data": {
      "text/plain": [
       "     Mars-Earth Comparison       Mars-Facts\n",
       "0  Mars - Earth Comparison             Mars\n",
       "1                Diameter:         6,779 km\n",
       "2                    Mass:  6.39 × 10^23 kg\n",
       "3                   Moons:                2\n",
       "4       Distance from Sun:   227,943,824 km\n",
       "5          Length of Year:   687 Earth days\n",
       "6             Temperature:     -87 to -5 °C"
      ],
      "text/html": [
       "<div>\n",
       "<style scoped>\n",
       "    .dataframe tbody tr th:only-of-type {\n",
       "        vertical-align: middle;\n",
       "    }\n",
       "\n",
       "    .dataframe tbody tr th {\n",
       "        vertical-align: top;\n",
       "    }\n",
       "\n",
       "    .dataframe thead th {\n",
       "        text-align: right;\n",
       "    }\n",
       "</style>\n",
       "<table border=\"1\" class=\"dataframe\">\n",
       "  <thead>\n",
       "    <tr style=\"text-align: right;\">\n",
       "      <th></th>\n",
       "      <th>Mars-Earth Comparison</th>\n",
       "      <th>Mars-Facts</th>\n",
       "    </tr>\n",
       "  </thead>\n",
       "  <tbody>\n",
       "    <tr>\n",
       "      <th>0</th>\n",
       "      <td>Mars - Earth Comparison</td>\n",
       "      <td>Mars</td>\n",
       "    </tr>\n",
       "    <tr>\n",
       "      <th>1</th>\n",
       "      <td>Diameter:</td>\n",
       "      <td>6,779 km</td>\n",
       "    </tr>\n",
       "    <tr>\n",
       "      <th>2</th>\n",
       "      <td>Mass:</td>\n",
       "      <td>6.39 × 10^23 kg</td>\n",
       "    </tr>\n",
       "    <tr>\n",
       "      <th>3</th>\n",
       "      <td>Moons:</td>\n",
       "      <td>2</td>\n",
       "    </tr>\n",
       "    <tr>\n",
       "      <th>4</th>\n",
       "      <td>Distance from Sun:</td>\n",
       "      <td>227,943,824 km</td>\n",
       "    </tr>\n",
       "    <tr>\n",
       "      <th>5</th>\n",
       "      <td>Length of Year:</td>\n",
       "      <td>687 Earth days</td>\n",
       "    </tr>\n",
       "    <tr>\n",
       "      <th>6</th>\n",
       "      <td>Temperature:</td>\n",
       "      <td>-87 to -5 °C</td>\n",
       "    </tr>\n",
       "  </tbody>\n",
       "</table>\n",
       "</div>"
      ]
     },
     "metadata": {},
     "execution_count": 48
    }
   ],
   "metadata": {}
  },
  {
   "cell_type": "code",
   "execution_count": 49,
   "source": [
    "# Convert dataframe to html\r\n",
    "facts_html = facts_table_df.to_html()\r\n",
    "facts_html"
   ],
   "outputs": [
    {
     "output_type": "execute_result",
     "data": {
      "text/plain": [
       "'<table border=\"1\" class=\"dataframe\">\\n  <thead>\\n    <tr style=\"text-align: right;\">\\n      <th></th>\\n      <th>Mars-Earth Comparison</th>\\n      <th>Mars-Facts</th>\\n    </tr>\\n  </thead>\\n  <tbody>\\n    <tr>\\n      <th>0</th>\\n      <td>Mars - Earth Comparison</td>\\n      <td>Mars</td>\\n    </tr>\\n    <tr>\\n      <th>1</th>\\n      <td>Diameter:</td>\\n      <td>6,779 km</td>\\n    </tr>\\n    <tr>\\n      <th>2</th>\\n      <td>Mass:</td>\\n      <td>6.39 × 10^23 kg</td>\\n    </tr>\\n    <tr>\\n      <th>3</th>\\n      <td>Moons:</td>\\n      <td>2</td>\\n    </tr>\\n    <tr>\\n      <th>4</th>\\n      <td>Distance from Sun:</td>\\n      <td>227,943,824 km</td>\\n    </tr>\\n    <tr>\\n      <th>5</th>\\n      <td>Length of Year:</td>\\n      <td>687 Earth days</td>\\n    </tr>\\n    <tr>\\n      <th>6</th>\\n      <td>Temperature:</td>\\n      <td>-87 to -5 °C</td>\\n    </tr>\\n  </tbody>\\n</table>'"
      ]
     },
     "metadata": {},
     "execution_count": 49
    }
   ],
   "metadata": {}
  },
  {
   "cell_type": "code",
   "execution_count": 50,
   "source": [
    "# Exist browser\r\n",
    "browser.quit()"
   ],
   "outputs": [],
   "metadata": {}
  },
  {
   "cell_type": "markdown",
   "source": [
    "MARS HEMISPHERES"
   ],
   "metadata": {}
  },
  {
   "cell_type": "code",
   "execution_count": 70,
   "source": [
    "executable_path = {'executable_path': ChromeDriverManager().install()}\r\n",
    "browser = Browser('chrome', **executable_path, headless=False)"
   ],
   "outputs": [
    {
     "output_type": "stream",
     "name": "stderr",
     "text": [
      "\n",
      "\n",
      "====== WebDriver manager ======\n",
      "Current google-chrome version is 92.0.4515\n",
      "Get LATEST driver version for 92.0.4515\n",
      "Driver [C:\\Users\\vaab2\\.wdm\\drivers\\chromedriver\\win32\\92.0.4515.107\\chromedriver.exe] found in cache\n"
     ]
    }
   ],
   "metadata": {}
  },
  {
   "cell_type": "code",
   "execution_count": 71,
   "source": [
    "#Visit Mars Hemispheres url  using splinter module\r\n",
    "\r\n",
    "hemispheres_url = 'https://marshemispheres.com/'\r\n",
    "browser.visit(hemispheres_url)\r\n",
    "#create HTMl Object\r\n",
    "hemishpere_html = browser.html"
   ],
   "outputs": [],
   "metadata": {}
  },
  {
   "cell_type": "code",
   "execution_count": 72,
   "source": [
    "#parse HTML with beautiful soup\r\n",
    "hemisphere_soup = bs(hemishpere_html, 'html.parser')"
   ],
   "outputs": [],
   "metadata": {}
  },
  {
   "cell_type": "code",
   "execution_count": 73,
   "source": [
    "url = hemisphere_soup.find_all('div', class_='item')\r\n",
    "hemisphere_title = []\r\n",
    "hemispheres_img_url = []"
   ],
   "outputs": [],
   "metadata": {}
  },
  {
   "cell_type": "code",
   "execution_count": 77,
   "source": [
    "# Create a loop\r\n",
    "for x in url:\r\n",
    "    time.sleep(2)\r\n",
    "    hemisphere_title = x.find('h3').text\r\n",
    "    #print(hemisphere_title)\r\n",
    "    img_url = hemispheres_url + hemisphere_title\r\n",
    "    #print(img_url)\r\n",
    "    dictionary={\"hemisphere_title\": hemisphere_title,\"img_url\":img_url}\r\n",
    "    dictionary_copy = dictionary.copy()\r\n",
    "    #print(dictionary_copy)\r\n",
    "    hemispheres_img_url.append(dictionary_copy)\r\n"
   ],
   "outputs": [],
   "metadata": {}
  },
  {
   "cell_type": "code",
   "execution_count": 78,
   "source": [
    "print(hemispheres_img_url)"
   ],
   "outputs": [
    {
     "output_type": "stream",
     "name": "stdout",
     "text": [
      "[{'hemisphere_title': 'Cerberus Hemisphere Enhanced', 'img_url': 'https://marshemispheres.com/Cerberus Hemisphere Enhanced'}, {'hemisphere_title': 'Schiaparelli Hemisphere Enhanced', 'img_url': 'https://marshemispheres.com/Schiaparelli Hemisphere Enhanced'}, {'hemisphere_title': 'Syrtis Major Hemisphere Enhanced', 'img_url': 'https://marshemispheres.com/Syrtis Major Hemisphere Enhanced'}, {'hemisphere_title': 'Valles Marineris Hemisphere Enhanced', 'img_url': 'https://marshemispheres.com/Valles Marineris Hemisphere Enhanced'}]\n"
     ]
    }
   ],
   "metadata": {}
  },
  {
   "cell_type": "code",
   "execution_count": 79,
   "source": [
    "# Exist browser\r\n",
    "browser.quit()"
   ],
   "outputs": [],
   "metadata": {}
  }
 ],
 "metadata": {
  "interpreter": {
   "hash": "b3ba2566441a7c06988d0923437866b63cedc61552a5af99d1f4fb67d367b25f"
  },
  "kernelspec": {
   "name": "python3",
   "display_name": "Python 3.8.5 64-bit ('base': conda)"
  },
  "language_info": {
   "codemirror_mode": {
    "name": "ipython",
    "version": 3
   },
   "file_extension": ".py",
   "mimetype": "text/x-python",
   "name": "python",
   "nbconvert_exporter": "python",
   "pygments_lexer": "ipython3",
   "version": "3.8.5"
  }
 },
 "nbformat": 4,
 "nbformat_minor": 4
}